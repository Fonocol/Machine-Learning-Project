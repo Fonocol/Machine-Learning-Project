{
 "cells": [
  {
   "cell_type": "markdown",
   "metadata": {},
   "source": [
    "# Projet 6 : Analyse des Séries Temporelles\n",
    "\n",
    "- Contexte :\n",
    "\n",
    "L’analyse  des  séries  temporelles  permet  de  modéliser  des  données dépendantes du temps.\n",
    "\n"
   ]
  }
 ],
 "metadata": {
  "language_info": {
   "name": "python"
  }
 },
 "nbformat": 4,
 "nbformat_minor": 2
}
