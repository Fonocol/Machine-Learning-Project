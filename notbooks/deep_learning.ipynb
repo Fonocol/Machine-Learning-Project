{
 "cells": [
  {
   "cell_type": "markdown",
   "metadata": {},
   "source": [
    "# Projet 7 : Deep Learning - Classification Cat vs Dog"
   ]
  },
  {
   "cell_type": "markdown",
   "metadata": {},
   "source": [
    "- Contexte\n",
    "\n",
    "Ce projet montre comment implémenter un modèle de deep learningpour classer des images de chats et de chiens\n",
    "\n",
    "- Objectifs \n",
    "Implémenter un modèle de deep learning.Optimiser les hyperparamètres."
   ]
  }
 ],
 "metadata": {
  "language_info": {
   "name": "python"
  }
 },
 "nbformat": 4,
 "nbformat_minor": 2
}
