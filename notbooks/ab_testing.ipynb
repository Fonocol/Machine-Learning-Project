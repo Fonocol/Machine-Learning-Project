{
 "cells": [
  {
   "cell_type": "markdown",
   "metadata": {},
   "source": [
    "## Projet 2 : A/B Testing"
   ]
  },
  {
   "cell_type": "markdown",
   "metadata": {},
   "source": [
    "### Informations sur le Projet\n",
    "\n",
    "- **Auteur** : Fono Colince  \n",
    "  \n",
    "- **Lien vers les datasets** :  \n",
    "  - [Dataset : A/B testing ](https://www.kaggle.com/datasets/zhangluyuan/ab-testing)\n",
    "\n",
    "\n",
    "- Contexte\n",
    "L’A/B  testing  est  une  méthode  utilisée  pour  comparer  deux  versionsd'un  produit  ou  d'un  service  afin  de  déterminer  laquelle  est  la  plusperformante. Ce projet est très populaire dans le marketing, les produitsdigitaux  et  l’e-commerce  pour  optimiser  des  campagnes  ou  desfonctionnalités."
   ]
  },
  {
   "cell_type": "code",
   "execution_count": 1,
   "metadata": {},
   "outputs": [],
   "source": [
    "import pandas as pd\n",
    "import matplotlib.pyplot as plt\n",
    "import numpy as np"
   ]
  },
  {
   "cell_type": "markdown",
   "metadata": {},
   "source": [
    "# Description du Dataset : A/B Testing\n",
    "\n",
    "Ce dataset contient des données d'un test A/B mené pour comparer deux pages web : une ancienne page (**old_page**) et une nouvelle page (**new_page**). L'objectif est de déterminer si la nouvelle page est plus efficace pour convertir les utilisateurs.\n",
    "\n",
    "## Colonnes du dataset\n",
    "\n",
    "| Colonne       | Description                                                                                   |\n",
    "|---------------|-----------------------------------------------------------------------------------------------|\n",
    "| **user_id**   | Identifiant unique de chaque utilisateur. Permet de s'assurer qu'il n'y a pas de doublons.    |\n",
    "| **timestamp** | Date et heure précises de l'interaction de l'utilisateur avec la page.                        |\n",
    "| **group**     | Groupe auquel l'utilisateur appartient : **control** (ancienne page) ou **treatment** (nouvelle page). |\n",
    "| **landing_page** | Page affichée à l'utilisateur : **old_page** (ancienne page) ou **new_page** (nouvelle page). |\n",
    "| **converted** | Indique si l'utilisateur a converti (binaire : **1** pour conversion, **0** pour non conversion). |\n",
    "\n",
    "---\n",
    "\n",
    "## Exemple de données\n",
    "\n",
    "| user_id | timestamp                | group      | landing_page | converted |\n",
    "|---------|--------------------------|------------|--------------|-----------|\n",
    "| 851104  | 2017-01-21 22:11:48.556739 | control    | old_page     | 0         |\n",
    "| 804228  | 2017-01-12 08:01:45.159739 | control    | old_page     | 0         |\n",
    "| 661590  | 2017-01-11 16:55:06.154213 | treatment  | new_page     | 0         |\n",
    "| 853541  | 2017-01-08 18:28:03.143765 | treatment  | new_page     | 0         |\n",
    "| 864975  | 2017-01-21 01:52:26.210827 | control    | old_page     | 1         |\n",
    "\n",
    "---\n",
    "\n",
    "## Objectif de l'analyse\n",
    "\n",
    "Le but de l'A/B Testing est de comparer les performances des deux pages en termes de **conversion** :\n",
    "- **Conversion (converted = 1)** : L'utilisateur a effectué l'action souhaitée (achat, inscription, etc.).\n",
    "- **Non-conversion (converted = 0)** : L'utilisateur n'a pas effectué l'action.\n",
    "\n",
    "L'analyse permettra de :\n",
    "1. Comparer les taux de conversion entre les groupes **control** et **treatment**.\n",
    "2. Déterminer si la nouvelle page (**new_page**) est significativement meilleure que l'ancienne page (**old_page**).\n",
    "\n",
    "---\n",
    "\n",
    "## Résultats attendus\n",
    "\n",
    "- Si le taux de conversion du groupe **treatment** est significativement plus élevé que celui du groupe **control**, alors la nouvelle page pourra être déployée.\n",
    "- Si aucune différence significative n'est observée, il n'y a pas de justification pour remplacer l'ancienne page.\n"
   ]
  },
  {
   "cell_type": "code",
   "execution_count": 2,
   "metadata": {},
   "outputs": [
    {
     "data": {
      "text/html": [
       "<div>\n",
       "<style scoped>\n",
       "    .dataframe tbody tr th:only-of-type {\n",
       "        vertical-align: middle;\n",
       "    }\n",
       "\n",
       "    .dataframe tbody tr th {\n",
       "        vertical-align: top;\n",
       "    }\n",
       "\n",
       "    .dataframe thead th {\n",
       "        text-align: right;\n",
       "    }\n",
       "</style>\n",
       "<table border=\"1\" class=\"dataframe\">\n",
       "  <thead>\n",
       "    <tr style=\"text-align: right;\">\n",
       "      <th></th>\n",
       "      <th>user_id</th>\n",
       "      <th>timestamp</th>\n",
       "      <th>group</th>\n",
       "      <th>landing_page</th>\n",
       "      <th>converted</th>\n",
       "    </tr>\n",
       "  </thead>\n",
       "  <tbody>\n",
       "    <tr>\n",
       "      <th>0</th>\n",
       "      <td>851104</td>\n",
       "      <td>2017-01-21 22:11:48.556739</td>\n",
       "      <td>control</td>\n",
       "      <td>old_page</td>\n",
       "      <td>0</td>\n",
       "    </tr>\n",
       "    <tr>\n",
       "      <th>1</th>\n",
       "      <td>804228</td>\n",
       "      <td>2017-01-12 08:01:45.159739</td>\n",
       "      <td>control</td>\n",
       "      <td>old_page</td>\n",
       "      <td>0</td>\n",
       "    </tr>\n",
       "    <tr>\n",
       "      <th>2</th>\n",
       "      <td>661590</td>\n",
       "      <td>2017-01-11 16:55:06.154213</td>\n",
       "      <td>treatment</td>\n",
       "      <td>new_page</td>\n",
       "      <td>0</td>\n",
       "    </tr>\n",
       "    <tr>\n",
       "      <th>3</th>\n",
       "      <td>853541</td>\n",
       "      <td>2017-01-08 18:28:03.143765</td>\n",
       "      <td>treatment</td>\n",
       "      <td>new_page</td>\n",
       "      <td>0</td>\n",
       "    </tr>\n",
       "    <tr>\n",
       "      <th>4</th>\n",
       "      <td>864975</td>\n",
       "      <td>2017-01-21 01:52:26.210827</td>\n",
       "      <td>control</td>\n",
       "      <td>old_page</td>\n",
       "      <td>1</td>\n",
       "    </tr>\n",
       "  </tbody>\n",
       "</table>\n",
       "</div>"
      ],
      "text/plain": [
       "   user_id                   timestamp      group landing_page  converted\n",
       "0   851104  2017-01-21 22:11:48.556739    control     old_page          0\n",
       "1   804228  2017-01-12 08:01:45.159739    control     old_page          0\n",
       "2   661590  2017-01-11 16:55:06.154213  treatment     new_page          0\n",
       "3   853541  2017-01-08 18:28:03.143765  treatment     new_page          0\n",
       "4   864975  2017-01-21 01:52:26.210827    control     old_page          1"
      ]
     },
     "execution_count": 2,
     "metadata": {},
     "output_type": "execute_result"
    }
   ],
   "source": [
    "data = pd.read_csv('../data/ab_data.csv')\n",
    "data.head()"
   ]
  },
  {
   "cell_type": "code",
   "execution_count": 6,
   "metadata": {},
   "outputs": [
    {
     "name": "stdout",
     "output_type": "stream",
     "text": [
      "group\n",
      "treatment    147276\n",
      "control      147202\n",
      "Name: count, dtype: int64\n",
      "landing_page\n",
      "old_page    147239\n",
      "new_page    147239\n",
      "Name: count, dtype: int64\n",
      "converted\n",
      "0    259241\n",
      "1     35237\n",
      "Name: count, dtype: int64\n"
     ]
    }
   ],
   "source": [
    "print(data['group'].value_counts())\n",
    "print(data['landing_page'].value_counts())\n",
    "print(data['converted'].value_counts())"
   ]
  },
  {
   "cell_type": "code",
   "execution_count": 3,
   "metadata": {},
   "outputs": [
    {
     "data": {
      "text/html": [
       "<div>\n",
       "<style scoped>\n",
       "    .dataframe tbody tr th:only-of-type {\n",
       "        vertical-align: middle;\n",
       "    }\n",
       "\n",
       "    .dataframe tbody tr th {\n",
       "        vertical-align: top;\n",
       "    }\n",
       "\n",
       "    .dataframe thead th {\n",
       "        text-align: right;\n",
       "    }\n",
       "</style>\n",
       "<table border=\"1\" class=\"dataframe\">\n",
       "  <thead>\n",
       "    <tr style=\"text-align: right;\">\n",
       "      <th></th>\n",
       "      <th>user_id</th>\n",
       "      <th>timestamp</th>\n",
       "      <th>group</th>\n",
       "      <th>landing_page</th>\n",
       "      <th>converted</th>\n",
       "    </tr>\n",
       "  </thead>\n",
       "  <tbody>\n",
       "    <tr>\n",
       "      <th>count</th>\n",
       "      <td>294478.000000</td>\n",
       "      <td>294478</td>\n",
       "      <td>294478</td>\n",
       "      <td>294478</td>\n",
       "      <td>294478.000000</td>\n",
       "    </tr>\n",
       "    <tr>\n",
       "      <th>unique</th>\n",
       "      <td>NaN</td>\n",
       "      <td>294478</td>\n",
       "      <td>2</td>\n",
       "      <td>2</td>\n",
       "      <td>NaN</td>\n",
       "    </tr>\n",
       "    <tr>\n",
       "      <th>top</th>\n",
       "      <td>NaN</td>\n",
       "      <td>2017-01-21 22:11:48.556739</td>\n",
       "      <td>treatment</td>\n",
       "      <td>old_page</td>\n",
       "      <td>NaN</td>\n",
       "    </tr>\n",
       "    <tr>\n",
       "      <th>freq</th>\n",
       "      <td>NaN</td>\n",
       "      <td>1</td>\n",
       "      <td>147276</td>\n",
       "      <td>147239</td>\n",
       "      <td>NaN</td>\n",
       "    </tr>\n",
       "    <tr>\n",
       "      <th>mean</th>\n",
       "      <td>787974.124733</td>\n",
       "      <td>NaN</td>\n",
       "      <td>NaN</td>\n",
       "      <td>NaN</td>\n",
       "      <td>0.119659</td>\n",
       "    </tr>\n",
       "    <tr>\n",
       "      <th>std</th>\n",
       "      <td>91210.823776</td>\n",
       "      <td>NaN</td>\n",
       "      <td>NaN</td>\n",
       "      <td>NaN</td>\n",
       "      <td>0.324563</td>\n",
       "    </tr>\n",
       "    <tr>\n",
       "      <th>min</th>\n",
       "      <td>630000.000000</td>\n",
       "      <td>NaN</td>\n",
       "      <td>NaN</td>\n",
       "      <td>NaN</td>\n",
       "      <td>0.000000</td>\n",
       "    </tr>\n",
       "    <tr>\n",
       "      <th>25%</th>\n",
       "      <td>709032.250000</td>\n",
       "      <td>NaN</td>\n",
       "      <td>NaN</td>\n",
       "      <td>NaN</td>\n",
       "      <td>0.000000</td>\n",
       "    </tr>\n",
       "    <tr>\n",
       "      <th>50%</th>\n",
       "      <td>787933.500000</td>\n",
       "      <td>NaN</td>\n",
       "      <td>NaN</td>\n",
       "      <td>NaN</td>\n",
       "      <td>0.000000</td>\n",
       "    </tr>\n",
       "    <tr>\n",
       "      <th>75%</th>\n",
       "      <td>866911.750000</td>\n",
       "      <td>NaN</td>\n",
       "      <td>NaN</td>\n",
       "      <td>NaN</td>\n",
       "      <td>0.000000</td>\n",
       "    </tr>\n",
       "    <tr>\n",
       "      <th>max</th>\n",
       "      <td>945999.000000</td>\n",
       "      <td>NaN</td>\n",
       "      <td>NaN</td>\n",
       "      <td>NaN</td>\n",
       "      <td>1.000000</td>\n",
       "    </tr>\n",
       "  </tbody>\n",
       "</table>\n",
       "</div>"
      ],
      "text/plain": [
       "              user_id                   timestamp      group landing_page  \\\n",
       "count   294478.000000                      294478     294478       294478   \n",
       "unique            NaN                      294478          2            2   \n",
       "top               NaN  2017-01-21 22:11:48.556739  treatment     old_page   \n",
       "freq              NaN                           1     147276       147239   \n",
       "mean    787974.124733                         NaN        NaN          NaN   \n",
       "std      91210.823776                         NaN        NaN          NaN   \n",
       "min     630000.000000                         NaN        NaN          NaN   \n",
       "25%     709032.250000                         NaN        NaN          NaN   \n",
       "50%     787933.500000                         NaN        NaN          NaN   \n",
       "75%     866911.750000                         NaN        NaN          NaN   \n",
       "max     945999.000000                         NaN        NaN          NaN   \n",
       "\n",
       "            converted  \n",
       "count   294478.000000  \n",
       "unique            NaN  \n",
       "top               NaN  \n",
       "freq              NaN  \n",
       "mean         0.119659  \n",
       "std          0.324563  \n",
       "min          0.000000  \n",
       "25%          0.000000  \n",
       "50%          0.000000  \n",
       "75%          0.000000  \n",
       "max          1.000000  "
      ]
     },
     "execution_count": 3,
     "metadata": {},
     "output_type": "execute_result"
    }
   ],
   "source": [
    "data.describe(include='all')"
   ]
  },
  {
   "cell_type": "code",
   "execution_count": 4,
   "metadata": {},
   "outputs": [
    {
     "name": "stdout",
     "output_type": "stream",
     "text": [
      "<class 'pandas.core.frame.DataFrame'>\n",
      "RangeIndex: 294478 entries, 0 to 294477\n",
      "Data columns (total 5 columns):\n",
      " #   Column        Non-Null Count   Dtype \n",
      "---  ------        --------------   ----- \n",
      " 0   user_id       294478 non-null  int64 \n",
      " 1   timestamp     294478 non-null  object\n",
      " 2   group         294478 non-null  object\n",
      " 3   landing_page  294478 non-null  object\n",
      " 4   converted     294478 non-null  int64 \n",
      "dtypes: int64(2), object(3)\n",
      "memory usage: 11.2+ MB\n"
     ]
    }
   ],
   "source": [
    "data.info()"
   ]
  },
  {
   "cell_type": "code",
   "execution_count": 5,
   "metadata": {},
   "outputs": [
    {
     "data": {
      "text/plain": [
       "Index(['user_id', 'timestamp', 'group', 'landing_page', 'converted'], dtype='object')"
      ]
     },
     "execution_count": 5,
     "metadata": {},
     "output_type": "execute_result"
    }
   ],
   "source": [
    "data.columns"
   ]
  },
  {
   "cell_type": "code",
   "execution_count": 7,
   "metadata": {},
   "outputs": [
    {
     "name": "stdout",
     "output_type": "stream",
     "text": [
      "Nombre d'incohérences : 3893\n"
     ]
    }
   ],
   "source": [
    "# Vérifier les incohérences entre 'group' et 'landing_page'\n",
    "incoherent = data[((data['group'] == 'control') & (data['landing_page'] != 'old_page')) |\n",
    "                  ((data['group'] == 'treatment') & (data['landing_page'] != 'new_page'))]\n",
    "print(f\"Nombre d'incohérences : {len(incoherent)}\")\n"
   ]
  },
  {
   "cell_type": "code",
   "execution_count": 8,
   "metadata": {},
   "outputs": [
    {
     "name": "stdout",
     "output_type": "stream",
     "text": [
      "group\n",
      "control      0.120399\n",
      "treatment    0.118920\n",
      "Name: converted, dtype: float64\n",
      "group\n",
      "treatment    147276\n",
      "control      147202\n",
      "Name: count, dtype: int64\n"
     ]
    }
   ],
   "source": [
    "# Taux de conversion pour chaque groupe\n",
    "conversion_rates = data.groupby('group')['converted'].mean()\n",
    "print(conversion_rates)\n",
    "\n",
    "# Taille des groupes\n",
    "group_sizes = data['group'].value_counts()\n",
    "print(group_sizes)\n"
   ]
  },
  {
   "cell_type": "code",
   "execution_count": 9,
   "metadata": {},
   "outputs": [
    {
     "data": {
      "image/png": "[encoded data removed]",
      "text/plain": [
       "<Figure size 640x480 with 1 Axes>"
      ]
     },
     "metadata": {},
     "output_type": "display_data"
    }
   ],
   "source": [
    "import matplotlib.pyplot as plt\n",
    "\n",
    "# Bar plot des taux de conversion\n",
    "conversion_rates.plot(kind='bar', color=['blue', 'orange'], alpha=0.7)\n",
    "plt.title(\"Taux de Conversion par Groupe\")\n",
    "plt.ylabel(\"Taux de Conversion\")\n",
    "plt.xlabel(\"Groupe\")\n",
    "plt.xticks(rotation=0)\n",
    "plt.show()\n"
   ]
  },
  {
   "cell_type": "code",
   "execution_count": 10,
   "metadata": {},
   "outputs": [
    {
     "name": "stdout",
     "output_type": "stream",
     "text": [
      "Chi²: 1.5159618356336582, p-value: 0.2182316121631168\n",
      "La différence n'est pas statistiquement significative.\n"
     ]
    }
   ],
   "source": [
    "from scipy.stats import chi2_contingency\n",
    "\n",
    "# Créer une table de contingence\n",
    "contingency_table = pd.crosstab(data['group'], data['converted'])\n",
    "\n",
    "# Test du Chi²\n",
    "chi2, p, dof, expected = chi2_contingency(contingency_table)\n",
    "print(f\"Chi²: {chi2}, p-value: {p}\")\n",
    "\n",
    "if p < 0.05:\n",
    "    print(\"La différence est statistiquement significative.\")\n",
    "else:\n",
    "    print(\"La différence n'est pas statistiquement significative.\")\n"
   ]
  },
  {
   "cell_type": "code",
   "execution_count": 11,
   "metadata": {},
   "outputs": [
    {
     "data": {
      "text/html": [
       "<div>\n",
       "<style scoped>\n",
       "    .dataframe tbody tr th:only-of-type {\n",
       "        vertical-align: middle;\n",
       "    }\n",
       "\n",
       "    .dataframe tbody tr th {\n",
       "        vertical-align: top;\n",
       "    }\n",
       "\n",
       "    .dataframe thead th {\n",
       "        text-align: right;\n",
       "    }\n",
       "</style>\n",
       "<table border=\"1\" class=\"dataframe\">\n",
       "  <thead>\n",
       "    <tr style=\"text-align: right;\">\n",
       "      <th>converted</th>\n",
       "      <th>0</th>\n",
       "      <th>1</th>\n",
       "    </tr>\n",
       "    <tr>\n",
       "      <th>group</th>\n",
       "      <th></th>\n",
       "      <th></th>\n",
       "    </tr>\n",
       "  </thead>\n",
       "  <tbody>\n",
       "    <tr>\n",
       "      <th>control</th>\n",
       "      <td>129479</td>\n",
       "      <td>17723</td>\n",
       "    </tr>\n",
       "    <tr>\n",
       "      <th>treatment</th>\n",
       "      <td>129762</td>\n",
       "      <td>17514</td>\n",
       "    </tr>\n",
       "  </tbody>\n",
       "</table>\n",
       "</div>"
      ],
      "text/plain": [
       "converted       0      1\n",
       "group                   \n",
       "control    129479  17723\n",
       "treatment  129762  17514"
      ]
     },
     "execution_count": 11,
     "metadata": {},
     "output_type": "execute_result"
    }
   ],
   "source": [
    "contingency_table"
   ]
  },
  {
   "cell_type": "markdown",
   "metadata": {},
   "source": [
    "### Implications pour l'A/B Testing :\n",
    "\n",
    "- Hypothèse nulle : Il n'y a pas de différence entre les deux pages.\n",
    "- Résultat : Les données ne permettent pas de rejeter l'hypothèse nulle.\n",
    "- Conclusion pratique : la nouvelle page n'apporte pas d'amélioration significative par rapport à l'ancienne page. Il n'est donc pas nécessaire de déployer la nouvelle page (sauf si d'autres facteurs entrent en jeu, comme le design ou le coût de maintenance).\n"
   ]
  }
 ],
 "metadata": {
  "kernelspec": {
   "display_name": "base",
   "language": "python",
   "name": "python3"
  },
  "language_info": {
   "codemirror_mode": {
    "name": "ipython",
    "version": 3
   },
   "file_extension": ".py",
   "mimetype": "text/x-python",
   "name": "python",
   "nbconvert_exporter": "python",
   "pygments_lexer": "ipython3",
   "version": "3.12.7"
  }
 },
 "nbformat": 4,
 "nbformat_minor": 2
}
